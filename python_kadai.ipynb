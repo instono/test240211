{
  "nbformat": 4,
  "nbformat_minor": 0,
  "metadata": {
    "colab": {
      "provenance": [],
      "toc_visible": true
    },
    "kernelspec": {
      "name": "python3",
      "display_name": "Python 3"
    },
    "language_info": {
      "name": "python"
    }
  },
  "cells": [
    {
      "cell_type": "code",
      "execution_count": null,
      "metadata": {
        "id": "jF5Jqul_YC4i"
      },
      "outputs": [],
      "source": [
        "import pandas as pd\n",
        "from openpyxl import Workbook\n",
        "from openpyxl.styles import Alignment\n",
        "from datetime import datetime\n",
        "\n",
        "# 現在の日付を取得\n",
        "current_date = datetime.now().strftime('%Y%m%d')\n",
        "\n",
        "# 新しいワークブックの作成\n",
        "wb = Workbook()\n",
        "ws = wb.activ\n",
        "\n",
        "# A列に1列追加\n",
        "ws.insert_cols(1)\n",
        "\n",
        "# 請求書のヘッダー情報を更新\n",
        "ws['B2'] = '請求書'\n",
        "ws['B4'] = '株式会社ABC'\n",
        "ws['B5'] = '〒101-0022 東京都千代田区神田練塀町300'\n",
        "ws['B6'] = 'TEL:03-1234-5678 FAX:03-1234-5678'\n",
        "ws['B7'] = '担当者名: 鈴木一郎 様'\n",
        "ws['F4'] = 'No.'\n",
        "ws['G4'] = '0001'\n",
        "ws['F5'] = '日付'\n",
        "ws['G5'] = datetime.now().strftime('%Y/%m/%d')\n",
        "\n",
        "# 請求書のテーブルヘッダーを更新\n",
        "ws['B10'] = '商品名'\n",
        "ws['C10'] = '数量'\n",
        "ws['D10'] = '単価'\n",
        "ws['E10'] = '金額'\n",
        "\n",
        "# 商品データ（サンプル）を更新\n",
        "items = [\n",
        "    ('商品A', 2, 10000),\n",
        "    ('商品B', 1, 15000)\n",
        "]\n",
        "\n",
        "# 商品データの挿入を更新\n",
        "for row, item in enumerate(items, start=11):\n",
        "    ws[f'B{row}'] = item[0]\n",
        "    ws[f'C{row}'] = item[1]\n",
        "    ws[f'D{row}'] = item[2]\n",
        "    ws[f'E{row}'] = item[1] * item[2]\n",
        "\n",
        "# 'E13'に'E11'と'E12'の合計値を追加\n",
        "ws['E13'] = ws['E11'].value + ws['E12'].value\n",
        "\n",
        "# 小計、消費税、合計の計算と挿入を更新\n",
        "subtotal = sum(item[1] * item[2] for item in items)\n",
        "tax = subtotal * 0.1\n",
        "total = subtotal + tax\n",
        "\n",
        "ws['B15'] = '小計'\n",
        "ws['E15'] = subtotal\n",
        "ws['B16'] = '消費税'\n",
        "ws['E16'] = tax\n",
        "ws['B17'] = '合計'\n",
        "ws['E17'] = total\n",
        "\n",
        "# セルのスタイル設定を更新\n",
        "for row in ws.iter_rows(min_row=4, max_col=5, max_row=17):\n",
        "    for cell in row:\n",
        "        cell.alignment = Alignment(horizontal='left')\n",
        "\n",
        "# ファイル名の設定\n",
        "file_name = f'請求書_{current_date}.xlsx'\n",
        "\n",
        "# Excelファイルの保存\n",
        "wb.save(file_name)"
      ]
    },
    {
      "cell_type": "code",
      "source": [
        "import numpy as np\n",
        "A = [[0,1],[2,3],[4,5]]\n",
        "B = [[0,1,2,3],[4,5,6,7]]\n",
        "\n",
        "product_A_B = np.dot(A,B)\n",
        "\n",
        "print(product_A_B.max())"
      ],
      "metadata": {
        "colab": {
          "base_uri": "https://localhost:8080/"
        },
        "id": "etcLLLI0_wPK",
        "outputId": "f95c6556-ae4d-493b-f63a-5fe36534142c"
      },
      "execution_count": null,
      "outputs": [
        {
          "output_type": "stream",
          "name": "stdout",
          "text": [
            "47\n"
          ]
        }
      ]
    },
    {
      "cell_type": "code",
      "source": [
        "# prompt: '2022_年間売上表.xlsx'と'2023_年間売上表.xlsx'を読み込み結合\n",
        "\n",
        "import pandas as pd\n",
        "import openpyxl as px\n",
        "from openpyxl.styles import PatternFill, Font, Alignment, Border, Side\n",
        "\n",
        "# 処理対象のファイル名のリストを格納\n",
        "file_list = ['2022_年間売上表.xlsx', '2023_年間売上表.xlsx']\n",
        "\n",
        "# 結合後のデータを格納するための空のデータフレームを作成\n",
        "df = pd.DataFrame()\n",
        "\n",
        "# ファイルを一つずつ処理する\n",
        "for file_name in file_list:\n",
        "    # Excelファイルを読み込む\n",
        "    temp_df = pd.read_excel(file_name, header=1)\n",
        "\n",
        "    # データフレームの列名を指定\n",
        "    temp_df.columns = ['売上年', '商品', '金額（千円）']\n",
        "\n",
        "    # concat()でデータフレームを連結\n",
        "    df = pd.concat([df, temp_df], ignore_index=True)\n",
        "\n",
        "# '商品' と '売上年' でグループ化し、各グループ内の '金額（千円）' を合計する\n",
        "grouped_df = df.groupby(['商品', '売上年'])['金額（千円）'].sum().reset_index()\n",
        "\n",
        "# Excelファイルを作成する\n",
        "writer = pd.ExcelWriter('売上集計表.xlsx')\n",
        "\n",
        "# 'grouped_df'をExcelファイルに書き込む\n",
        "grouped_df.to_excel(writer, sheet_name='売上集計表', index=False)\n",
        "\n",
        "# シートを選択\n",
        "ws = writer.sheets['売上集計表']\n",
        "\n",
        "# ヘッダー行を設定します。\n",
        "headers = ['商品', '売上年', '金額（千円）']\n",
        "for col, header in enumerate(headers, start=1):\n",
        "    cell = ws.cell(row=1, column=col, value=header)\n",
        "    # 背景色を薄いグレーに設定します。\n",
        "    cell.fill = PatternFill(start_color='F2F2F2', end_color='F2F2F2', fill_type='solid')\n",
        "    # フォントを太字にし、中央揃えに設定します。\n",
        "    cell.font = Font(bold=True)\n",
        "    cell.alignment = Alignment(horizontal='center')\n",
        "    # 罫線を設定します。\n",
        "    thin = Side(border_style=\"thin\", color=\"000000\")\n",
        "    cell.border = Border(top=thin, left=thin, right=thin, bottom=thin)\n",
        "\n",
        "# Excelファイルを保存する\n",
        "writer.save()"
      ],
      "metadata": {
        "colab": {
          "base_uri": "https://localhost:8080/"
        },
        "id": "vt4Gzgak0zCM",
        "outputId": "0403c2b2-b7e1-498b-ecfa-7cb2402d6a1d"
      },
      "execution_count": null,
      "outputs": [
        {
          "output_type": "stream",
          "name": "stdout",
          "text": [
            "台形の面積75.0㎠\n"
          ]
        }
      ]
    }
  ]
}